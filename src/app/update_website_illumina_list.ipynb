{
 "cells": [
  {
   "cell_type": "code",
   "execution_count": 1,
   "metadata": {},
   "outputs": [],
   "source": [
    "import pickle"
   ]
  },
  {
   "cell_type": "code",
   "execution_count": 2,
   "metadata": {},
   "outputs": [],
   "source": [
    "running_list = [(\"human_omni_express\", \"HumanOmniExpress-24-v1-0-B\"), \n",
    "                (\"dogHD\",\"CanineHD\"), \n",
    "                (\"inf_omni_zhonghua\", \"InfiniumOmniZhongHua\"),\n",
    "                (\"human_omni\", \"HumanOmni5-4\"),\n",
    "                (\"immuno_chip\", 'Human Immuno Beadchip')]"
   ]
  },
  {
   "cell_type": "code",
   "execution_count": 3,
   "metadata": {},
   "outputs": [],
   "source": [
    "with open('website.pickle', 'wb') as f:\n",
    "    pickle.dump(running_list, f, pickle.HIGHEST_PROTOCOL)"
   ]
  }
 ],
 "metadata": {
  "kernelspec": {
   "display_name": "Python 3",
   "language": "python",
   "name": "python3"
  },
  "language_info": {
   "codemirror_mode": {
    "name": "ipython",
    "version": 3
   },
   "file_extension": ".py",
   "mimetype": "text/x-python",
   "name": "python",
   "nbconvert_exporter": "python",
   "pygments_lexer": "ipython3",
   "version": "3.7.3"
  }
 },
 "nbformat": 4,
 "nbformat_minor": 2
}
