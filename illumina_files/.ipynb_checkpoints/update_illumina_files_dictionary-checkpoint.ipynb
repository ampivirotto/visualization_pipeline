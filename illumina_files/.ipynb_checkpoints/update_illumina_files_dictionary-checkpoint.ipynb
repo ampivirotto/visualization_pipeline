{
 "cells": [
  {
   "cell_type": "code",
   "execution_count": 1,
   "metadata": {},
   "outputs": [],
   "source": [
    "import pickle"
   ]
  },
  {
   "cell_type": "code",
   "execution_count": 3,
   "metadata": {},
   "outputs": [],
   "source": [
    "chipDict = {'human_omni_express':['HumanOmniExpress-24-v1-0-B.bpm', 'HumanOmniExpress_24v1-0_A.egt', 'HumanOmniExpress-24-v1-0-B.csv'],\n",
    "            'inf_omni_zhonghua':['InfiniumOmniZhongHua-8v1-4_A1.bpm', 'InfiniumOmniZhongHua-8v1-4_A1.egt', 'InfiniumOmniZhongHua-8v1-4_A1.csv'],\n",
    "            'human_omni': ['HumanOmni5-4v1-1_A.bpm', 'HumanOmni5-4v1-1.egt', 'HumanOmni5-4v1-1_A.csv'],\n",
    "            'immuno_chip': ['Immuno_BeadChip_11419691_B.bpm', 'ImmunoChip_Gentrain_June2010.egt', 'Immuno_BeadChip_11419691_B.csv'],\n",
    "            'dogHD': ['CanineHD_B.bpm', 'CanineHD_A.egt', 'realigned_CanineHD_B.csv']}"
   ]
  },
  {
   "cell_type": "code",
   "execution_count": 5,
   "metadata": {},
   "outputs": [],
   "source": [
    "with open('illumina_dict.pickle', 'wb') as f:\n",
    "    pickle.dump(chipDict, f)"
   ]
  }
 ],
 "metadata": {
  "kernelspec": {
   "display_name": "Python 3",
   "language": "python",
   "name": "python3"
  },
  "language_info": {
   "codemirror_mode": {
    "name": "ipython",
    "version": 3
   },
   "file_extension": ".py",
   "mimetype": "text/x-python",
   "name": "python",
   "nbconvert_exporter": "python",
   "pygments_lexer": "ipython3",
   "version": "3.7.3"
  }
 },
 "nbformat": 4,
 "nbformat_minor": 2
}
